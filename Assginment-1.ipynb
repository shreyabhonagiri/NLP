{
  "nbformat": 4,
  "nbformat_minor": 0,
  "metadata": {
    "colab": {
      "name": "Untitled1.ipynb",
      "provenance": [],
      "authorship_tag": "ABX9TyPQ/tocfCsHX62qXZXbUq18",
      "include_colab_link": true
    },
    "kernelspec": {
      "name": "python3",
      "display_name": "Python 3"
    },
    "language_info": {
      "name": "python"
    }
  },
  "cells": [
    {
      "cell_type": "markdown",
      "metadata": {
        "id": "view-in-github",
        "colab_type": "text"
      },
      "source": [
        "<a href=\"https://colab.research.google.com/github/shreyabhonagiri/NLP/blob/main/Assginment-1.ipynb\" target=\"_parent\"><img src=\"https://colab.research.google.com/assets/colab-badge.svg\" alt=\"Open In Colab\"/></a>"
      ]
    },
    {
      "cell_type": "code",
      "execution_count": null,
      "metadata": {
        "id": "szcB3tb8ZpvH"
      },
      "outputs": [],
      "source": [
        ""
      ]
    },
    {
      "cell_type": "markdown",
      "source": [
        "PARAGRAPH :- Are you fascinated by the amount of text data available on the internet? Are you looking for ways to work with this text data but aren’t sure where to begin? Machines, after all, recognize numbers, not the letters of our language. And that can be a tricky landscape to navigate in machine learning. Solving an NLP problem is a multi-stage process. We need to clean the unstructured text data first before we can even think about getting to the modelling stage. Cleaning the data consists of a few key steps."
      ],
      "metadata": {
        "id": "pUdAEjOdZwtq"
      }
    },
    {
      "cell_type": "code",
      "source": [
        "from nltk.tokenize import word_tokenize, sent_tokenize\n",
        "import nltk\n",
        "nltk.download('punkt')\n",
        "nltk.download('wordnet')\n",
        "nltk.download('omw-1.4')"
      ],
      "metadata": {
        "colab": {
          "base_uri": "https://localhost:8080/"
        },
        "id": "_dFZ6g2WZyOW",
        "outputId": "05eb8b84-6dd1-4b43-e296-515181547ea9"
      },
      "execution_count": 1,
      "outputs": [
        {
          "output_type": "stream",
          "name": "stderr",
          "text": [
            "[nltk_data] Downloading package punkt to /root/nltk_data...\n",
            "[nltk_data]   Unzipping tokenizers/punkt.zip.\n",
            "[nltk_data] Downloading package wordnet to /root/nltk_data...\n",
            "[nltk_data] Downloading package omw-1.4 to /root/nltk_data...\n"
          ]
        },
        {
          "output_type": "execute_result",
          "data": {
            "text/plain": [
              "True"
            ]
          },
          "metadata": {},
          "execution_count": 1
        }
      ]
    },
    {
      "cell_type": "markdown",
      "source": [
        "Question 1 : Split the above paragraph into sentences"
      ],
      "metadata": {
        "id": "HNn9GV5GaGnL"
      }
    },
    {
      "cell_type": "code",
      "source": [
        "paragraph = \"Are you fascinated by the amount of text data available on the internet? Are you looking for ways to work with this text data but aren’t sure where to begin? Machines, after all, recognize numbers, not the letters of our language. And that can be a tricky landscape to navigate in machine learning.Solving an NLP problem is a multi-stage process. We need to clean the unstructured text data first before we can even think about getting to the modelling stage. Cleaning the data consists of a few key steps.\"\n",
        "sent_tokenize(paragraph)"
      ],
      "metadata": {
        "colab": {
          "base_uri": "https://localhost:8080/"
        },
        "id": "Pm2MhrJ0bB84",
        "outputId": "aa27ddfe-026c-466c-b06d-767b87c5e084"
      },
      "execution_count": 4,
      "outputs": [
        {
          "output_type": "execute_result",
          "data": {
            "text/plain": [
              "['Are you fascinated by the amount of text data available on the internet?',\n",
              " 'Are you looking for ways to work with this text data but aren’t sure where to begin?',\n",
              " 'Machines, after all, recognize numbers, not the letters of our language.',\n",
              " 'And that can be a tricky landscape to navigate in machine learning.Solving an NLP problem is a multi-stage process.',\n",
              " 'We need to clean the unstructured text data first before we can even think about getting to the modelling stage.',\n",
              " 'Cleaning the data consists of a few key steps.']"
            ]
          },
          "metadata": {},
          "execution_count": 4
        }
      ]
    },
    {
      "cell_type": "markdown",
      "source": [
        "Question 2 : Split the above paragraph into words"
      ],
      "metadata": {
        "id": "wGo-T7U_bEgZ"
      }
    },
    {
      "cell_type": "code",
      "source": [
        "word_tokenize(paragraph)"
      ],
      "metadata": {
        "colab": {
          "base_uri": "https://localhost:8080/"
        },
        "id": "XqYZgTgcaQ6A",
        "outputId": "6adeb85e-2b3e-467f-91d9-fb880ee03672"
      },
      "execution_count": 3,
      "outputs": [
        {
          "output_type": "execute_result",
          "data": {
            "text/plain": [
              "['Are',\n",
              " 'you',\n",
              " 'fascinated',\n",
              " 'by',\n",
              " 'the',\n",
              " 'amount',\n",
              " 'of',\n",
              " 'text',\n",
              " 'data',\n",
              " 'available',\n",
              " 'on',\n",
              " 'the',\n",
              " 'internet',\n",
              " '?',\n",
              " 'Are',\n",
              " 'you',\n",
              " 'looking',\n",
              " 'for',\n",
              " 'ways',\n",
              " 'to',\n",
              " 'work',\n",
              " 'with',\n",
              " 'this',\n",
              " 'text',\n",
              " 'data',\n",
              " 'but',\n",
              " 'aren',\n",
              " '’',\n",
              " 't',\n",
              " 'sure',\n",
              " 'where',\n",
              " 'to',\n",
              " 'begin',\n",
              " '?',\n",
              " 'Machines',\n",
              " ',',\n",
              " 'after',\n",
              " 'all',\n",
              " ',',\n",
              " 'recognize',\n",
              " 'numbers',\n",
              " ',',\n",
              " 'not',\n",
              " 'the',\n",
              " 'letters',\n",
              " 'of',\n",
              " 'our',\n",
              " 'language',\n",
              " '.',\n",
              " 'And',\n",
              " 'that',\n",
              " 'can',\n",
              " 'be',\n",
              " 'a',\n",
              " 'tricky',\n",
              " 'landscape',\n",
              " 'to',\n",
              " 'navigate',\n",
              " 'in',\n",
              " 'machine',\n",
              " 'learning.Solving',\n",
              " 'an',\n",
              " 'NLP',\n",
              " 'problem',\n",
              " 'is',\n",
              " 'a',\n",
              " 'multi-stage',\n",
              " 'process',\n",
              " '.',\n",
              " 'We',\n",
              " 'need',\n",
              " 'to',\n",
              " 'clean',\n",
              " 'the',\n",
              " 'unstructured',\n",
              " 'text',\n",
              " 'data',\n",
              " 'first',\n",
              " 'before',\n",
              " 'we',\n",
              " 'can',\n",
              " 'even',\n",
              " 'think',\n",
              " 'about',\n",
              " 'getting',\n",
              " 'to',\n",
              " 'the',\n",
              " 'modelling',\n",
              " 'stage',\n",
              " '.',\n",
              " 'Cleaning',\n",
              " 'the',\n",
              " 'data',\n",
              " 'consists',\n",
              " 'of',\n",
              " 'a',\n",
              " 'few',\n",
              " 'key',\n",
              " 'steps',\n",
              " '.']"
            ]
          },
          "metadata": {},
          "execution_count": 3
        }
      ]
    },
    {
      "cell_type": "code",
      "source": [
        "paragraph = \"Are you fascinated by the amount of text data available on the internet? Are you looking for ways to work with this text data but aren’t sure where to begin? Machines, after all, recognize numbers, not the letters of our language. And that can be a tricky landscape to navigate in machine learning.Solving an NLP problem is a multi-stage process. We need to clean the unstructured text data first before we can even think about getting to the modelling stage. Cleaning the data consists of a few key steps.\"\n",
        "sent_tokenize(paragraph)"
      ],
      "metadata": {
        "colab": {
          "base_uri": "https://localhost:8080/"
        },
        "id": "HkxtD67maALK",
        "outputId": "d9a52cd6-ca06-411d-adee-1f359fb17feb"
      },
      "execution_count": 2,
      "outputs": [
        {
          "output_type": "execute_result",
          "data": {
            "text/plain": [
              "['Are you fascinated by the amount of text data available on the internet?',\n",
              " 'Are you looking for ways to work with this text data but aren’t sure where to begin?',\n",
              " 'Machines, after all, recognize numbers, not the letters of our language.',\n",
              " 'And that can be a tricky landscape to navigate in machine learning.Solving an NLP problem is a multi-stage process.',\n",
              " 'We need to clean the unstructured text data first before we can even think about getting to the modelling stage.',\n",
              " 'Cleaning the data consists of a few key steps.']"
            ]
          },
          "metadata": {},
          "execution_count": 2
        }
      ]
    },
    {
      "cell_type": "markdown",
      "source": [
        "Question 3 : Find stem and lemma words for the given words?\n",
        "\n",
        "“cats\"\n",
        "\"trouble\"\n",
        "\"troubling\"\n",
        "\"troubled\"\n",
        "“having”\n",
        "“Corriendo”\n",
        "“at”\n",
        "“was”"
      ],
      "metadata": {
        "id": "P4BMBSXmbPmR"
      }
    },
    {
      "cell_type": "markdown",
      "source": [
        ""
      ],
      "metadata": {
        "id": "ws0YQrbkaGFj"
      }
    },
    {
      "cell_type": "code",
      "source": [
        "# STEMMING\n",
        "from nltk.stem import SnowballStemmer\n",
        "stemming=SnowballStemmer('english')\n",
        "names=[\"cats\",\"trouble\",\"troubling\",\"having\",\"Corriendo\",\"at\",\"was\"]\n",
        "for words in names:\n",
        "  root = stemming.stem(words)\n",
        "  print(root)"
      ],
      "metadata": {
        "colab": {
          "base_uri": "https://localhost:8080/"
        },
        "id": "CIvj3FwVbRBp",
        "outputId": "7b484a6e-2ce5-4bd2-c6e7-f8c11e042128"
      },
      "execution_count": 5,
      "outputs": [
        {
          "output_type": "stream",
          "name": "stdout",
          "text": [
            "cat\n",
            "troubl\n",
            "troubl\n",
            "have\n",
            "corriendo\n",
            "at\n",
            "was\n"
          ]
        }
      ]
    },
    {
      "cell_type": "code",
      "source": [
        "# LEMATIZATION\n",
        "from nltk.stem import WordNetLemmatizer\n",
        "lemmatization = WordNetLemmatizer()\n",
        "for words in names:\n",
        "  root = lemmatization.lemmatize(words)\n",
        "  print(root)"
      ],
      "metadata": {
        "colab": {
          "base_uri": "https://localhost:8080/"
        },
        "id": "Izap9vhNbXfh",
        "outputId": "8b4c23c6-1518-4c7e-ae39-fe54960d9524"
      },
      "execution_count": 6,
      "outputs": [
        {
          "output_type": "stream",
          "name": "stdout",
          "text": [
            "cat\n",
            "trouble\n",
            "troubling\n",
            "having\n",
            "Corriendo\n",
            "at\n",
            "wa\n"
          ]
        }
      ]
    }
  ]
}